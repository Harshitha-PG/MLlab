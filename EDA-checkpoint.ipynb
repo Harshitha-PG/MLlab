{
 "cells": [
  {
   "cell_type": "code",
   "execution_count": 2,
   "id": "79bff4d0-ae19-4abe-8acc-3d0161ec1bb5",
   "metadata": {},
   "outputs": [],
   "source": [
    "import numpy as np\n",
    "import pandas as pd\n",
    "import matplotlib.pyplot as plt \n",
    "import seaborn as sns"
   ]
  },
  {
   "cell_type": "code",
   "execution_count": 3,
   "id": "e58210fc-83a3-4578-8ed7-6daa276eaba8",
   "metadata": {},
   "outputs": [],
   "source": [
    "cars_df=pd.read_csv(\"CARS.csv\")"
   ]
  },
  {
   "cell_type": "code",
   "execution_count": 4,
   "id": "52e5f5c8-182d-4de6-ab65-213e7f16c615",
   "metadata": {},
   "outputs": [
    {
     "data": {
      "text/plain": [
       "(429, 15)"
      ]
     },
     "execution_count": 4,
     "metadata": {},
     "output_type": "execute_result"
    }
   ],
   "source": [
    "cars_df.shape"
   ]
  },
  {
   "cell_type": "code",
   "execution_count": 6,
   "id": "a985afce-48f9-477a-8add-3943219188f9",
   "metadata": {},
   "outputs": [
    {
     "name": "stdout",
     "output_type": "stream",
     "text": [
      "<class 'pandas.core.frame.DataFrame'>\n",
      "RangeIndex: 429 entries, 0 to 428\n",
      "Data columns (total 15 columns):\n",
      " #   Column       Non-Null Count  Dtype  \n",
      "---  ------       --------------  -----  \n",
      " 0   Make         429 non-null    object \n",
      " 1   Model        429 non-null    object \n",
      " 2   Type         429 non-null    object \n",
      " 3   Origin       429 non-null    object \n",
      " 4   DriveTrain   429 non-null    object \n",
      " 5   MSRP         429 non-null    object \n",
      " 6   Invoice      429 non-null    object \n",
      " 7   EngineSize   429 non-null    float64\n",
      " 8   Cylinders    427 non-null    float64\n",
      " 9   Horsepower   429 non-null    int64  \n",
      " 10  MPG_City     429 non-null    int64  \n",
      " 11  MPG_Highway  429 non-null    int64  \n",
      " 12  Weight       429 non-null    int64  \n",
      " 13  Wheelbase    429 non-null    int64  \n",
      " 14  Length       429 non-null    int64  \n",
      "dtypes: float64(2), int64(6), object(7)\n",
      "memory usage: 50.4+ KB\n"
     ]
    }
   ],
   "source": [
    "cars_df.info()"
   ]
  },
  {
   "cell_type": "code",
   "execution_count": 10,
   "id": "e51ef07e-6937-43d6-8ae6-9f55416ced39",
   "metadata": {},
   "outputs": [
    {
     "data": {
      "text/html": [
       "<div>\n",
       "<style scoped>\n",
       "    .dataframe tbody tr th:only-of-type {\n",
       "        vertical-align: middle;\n",
       "    }\n",
       "\n",
       "    .dataframe tbody tr th {\n",
       "        vertical-align: top;\n",
       "    }\n",
       "\n",
       "    .dataframe thead th {\n",
       "        text-align: right;\n",
       "    }\n",
       "</style>\n",
       "<table border=\"1\" class=\"dataframe\">\n",
       "  <thead>\n",
       "    <tr style=\"text-align: right;\">\n",
       "      <th></th>\n",
       "      <th>Make</th>\n",
       "      <th>Model</th>\n",
       "      <th>Type</th>\n",
       "      <th>Origin</th>\n",
       "      <th>DriveTrain</th>\n",
       "      <th>MSRP</th>\n",
       "      <th>Invoice</th>\n",
       "      <th>EngineSize</th>\n",
       "      <th>Cylinders</th>\n",
       "      <th>Horsepower</th>\n",
       "      <th>MPG_City</th>\n",
       "      <th>MPG_Highway</th>\n",
       "      <th>Weight</th>\n",
       "      <th>Wheelbase</th>\n",
       "      <th>Length</th>\n",
       "    </tr>\n",
       "  </thead>\n",
       "  <tbody>\n",
       "    <tr>\n",
       "      <th>0</th>\n",
       "      <td>Acura</td>\n",
       "      <td>MDX</td>\n",
       "      <td>SUV</td>\n",
       "      <td>Asia</td>\n",
       "      <td>All</td>\n",
       "      <td>$36,945</td>\n",
       "      <td>$33,337</td>\n",
       "      <td>3.5</td>\n",
       "      <td>6.0</td>\n",
       "      <td>265</td>\n",
       "      <td>17</td>\n",
       "      <td>23</td>\n",
       "      <td>4451</td>\n",
       "      <td>106</td>\n",
       "      <td>189</td>\n",
       "    </tr>\n",
       "    <tr>\n",
       "      <th>1</th>\n",
       "      <td>Acura</td>\n",
       "      <td>RSX Type S 2dr</td>\n",
       "      <td>Sedan</td>\n",
       "      <td>Asia</td>\n",
       "      <td>Front</td>\n",
       "      <td>$23,820</td>\n",
       "      <td>$21,761</td>\n",
       "      <td>2.0</td>\n",
       "      <td>4.0</td>\n",
       "      <td>200</td>\n",
       "      <td>24</td>\n",
       "      <td>31</td>\n",
       "      <td>2778</td>\n",
       "      <td>101</td>\n",
       "      <td>172</td>\n",
       "    </tr>\n",
       "    <tr>\n",
       "      <th>2</th>\n",
       "      <td>Acura</td>\n",
       "      <td>TSX 4dr</td>\n",
       "      <td>Sedan</td>\n",
       "      <td>Asia</td>\n",
       "      <td>Front</td>\n",
       "      <td>$26,990</td>\n",
       "      <td>$24,647</td>\n",
       "      <td>2.4</td>\n",
       "      <td>4.0</td>\n",
       "      <td>200</td>\n",
       "      <td>22</td>\n",
       "      <td>29</td>\n",
       "      <td>3230</td>\n",
       "      <td>105</td>\n",
       "      <td>183</td>\n",
       "    </tr>\n",
       "    <tr>\n",
       "      <th>3</th>\n",
       "      <td>Acura</td>\n",
       "      <td>TL 4dr</td>\n",
       "      <td>Sedan</td>\n",
       "      <td>Asia</td>\n",
       "      <td>Front</td>\n",
       "      <td>$33,195</td>\n",
       "      <td>$30,299</td>\n",
       "      <td>3.2</td>\n",
       "      <td>6.0</td>\n",
       "      <td>270</td>\n",
       "      <td>20</td>\n",
       "      <td>28</td>\n",
       "      <td>3575</td>\n",
       "      <td>108</td>\n",
       "      <td>186</td>\n",
       "    </tr>\n",
       "    <tr>\n",
       "      <th>4</th>\n",
       "      <td>Acura</td>\n",
       "      <td>3.5 RL 4dr</td>\n",
       "      <td>Sedan</td>\n",
       "      <td>Asia</td>\n",
       "      <td>Front</td>\n",
       "      <td>$43,755</td>\n",
       "      <td>$39,014</td>\n",
       "      <td>3.5</td>\n",
       "      <td>6.0</td>\n",
       "      <td>225</td>\n",
       "      <td>18</td>\n",
       "      <td>24</td>\n",
       "      <td>3880</td>\n",
       "      <td>115</td>\n",
       "      <td>197</td>\n",
       "    </tr>\n",
       "  </tbody>\n",
       "</table>\n",
       "</div>"
      ],
      "text/plain": [
       "    Make           Model   Type Origin DriveTrain      MSRP   Invoice  \\\n",
       "0  Acura             MDX    SUV   Asia        All  $36,945   $33,337    \n",
       "1  Acura  RSX Type S 2dr  Sedan   Asia      Front  $23,820   $21,761    \n",
       "2  Acura         TSX 4dr  Sedan   Asia      Front  $26,990   $24,647    \n",
       "3  Acura          TL 4dr  Sedan   Asia      Front  $33,195   $30,299    \n",
       "4  Acura      3.5 RL 4dr  Sedan   Asia      Front  $43,755   $39,014    \n",
       "\n",
       "   EngineSize  Cylinders  Horsepower  MPG_City  MPG_Highway  Weight  \\\n",
       "0         3.5        6.0         265        17           23    4451   \n",
       "1         2.0        4.0         200        24           31    2778   \n",
       "2         2.4        4.0         200        22           29    3230   \n",
       "3         3.2        6.0         270        20           28    3575   \n",
       "4         3.5        6.0         225        18           24    3880   \n",
       "\n",
       "   Wheelbase  Length  \n",
       "0        106     189  \n",
       "1        101     172  \n",
       "2        105     183  \n",
       "3        108     186  \n",
       "4        115     197  "
      ]
     },
     "execution_count": 10,
     "metadata": {},
     "output_type": "execute_result"
    }
   ],
   "source": [
    "cars_df.head()"
   ]
  },
  {
   "cell_type": "code",
   "execution_count": 12,
   "id": "ee04d036-fb6a-4662-8d6a-a83ea17b6f4a",
   "metadata": {},
   "outputs": [
    {
     "data": {
      "text/html": [
       "<div>\n",
       "<style scoped>\n",
       "    .dataframe tbody tr th:only-of-type {\n",
       "        vertical-align: middle;\n",
       "    }\n",
       "\n",
       "    .dataframe tbody tr th {\n",
       "        vertical-align: top;\n",
       "    }\n",
       "\n",
       "    .dataframe thead th {\n",
       "        text-align: right;\n",
       "    }\n",
       "</style>\n",
       "<table border=\"1\" class=\"dataframe\">\n",
       "  <thead>\n",
       "    <tr style=\"text-align: right;\">\n",
       "      <th></th>\n",
       "      <th>Make</th>\n",
       "      <th>Model</th>\n",
       "      <th>Type</th>\n",
       "      <th>Origin</th>\n",
       "      <th>DriveTrain</th>\n",
       "      <th>MSRP</th>\n",
       "      <th>Invoice</th>\n",
       "      <th>EngineSize</th>\n",
       "      <th>Cylinders</th>\n",
       "      <th>Horsepower</th>\n",
       "      <th>MPG_City</th>\n",
       "      <th>MPG_Highway</th>\n",
       "      <th>Weight</th>\n",
       "      <th>Wheelbase</th>\n",
       "      <th>Length</th>\n",
       "    </tr>\n",
       "  </thead>\n",
       "  <tbody>\n",
       "    <tr>\n",
       "      <th>424</th>\n",
       "      <td>Volvo</td>\n",
       "      <td>C70 HPT convertible 2dr</td>\n",
       "      <td>Sedan</td>\n",
       "      <td>Europe</td>\n",
       "      <td>Front</td>\n",
       "      <td>$42,565</td>\n",
       "      <td>$40,083</td>\n",
       "      <td>2.3</td>\n",
       "      <td>5.0</td>\n",
       "      <td>242</td>\n",
       "      <td>20</td>\n",
       "      <td>26</td>\n",
       "      <td>3450</td>\n",
       "      <td>105</td>\n",
       "      <td>186</td>\n",
       "    </tr>\n",
       "    <tr>\n",
       "      <th>425</th>\n",
       "      <td>Volvo</td>\n",
       "      <td>S80 T6 4dr</td>\n",
       "      <td>Sedan</td>\n",
       "      <td>Europe</td>\n",
       "      <td>Front</td>\n",
       "      <td>$45,210</td>\n",
       "      <td>$42,573</td>\n",
       "      <td>2.9</td>\n",
       "      <td>6.0</td>\n",
       "      <td>268</td>\n",
       "      <td>19</td>\n",
       "      <td>26</td>\n",
       "      <td>3653</td>\n",
       "      <td>110</td>\n",
       "      <td>190</td>\n",
       "    </tr>\n",
       "    <tr>\n",
       "      <th>426</th>\n",
       "      <td>Volvo</td>\n",
       "      <td>V40</td>\n",
       "      <td>Wagon</td>\n",
       "      <td>Europe</td>\n",
       "      <td>Front</td>\n",
       "      <td>$26,135</td>\n",
       "      <td>$24,641</td>\n",
       "      <td>1.9</td>\n",
       "      <td>4.0</td>\n",
       "      <td>170</td>\n",
       "      <td>22</td>\n",
       "      <td>29</td>\n",
       "      <td>2822</td>\n",
       "      <td>101</td>\n",
       "      <td>180</td>\n",
       "    </tr>\n",
       "    <tr>\n",
       "      <th>427</th>\n",
       "      <td>Volvo</td>\n",
       "      <td>XC70</td>\n",
       "      <td>Wagon</td>\n",
       "      <td>Europe</td>\n",
       "      <td>All</td>\n",
       "      <td>$35,145</td>\n",
       "      <td>$33,112</td>\n",
       "      <td>2.5</td>\n",
       "      <td>5.0</td>\n",
       "      <td>208</td>\n",
       "      <td>20</td>\n",
       "      <td>27</td>\n",
       "      <td>3823</td>\n",
       "      <td>109</td>\n",
       "      <td>186</td>\n",
       "    </tr>\n",
       "    <tr>\n",
       "      <th>428</th>\n",
       "      <td>Volvo</td>\n",
       "      <td>XC70</td>\n",
       "      <td>Wagon</td>\n",
       "      <td>Europe</td>\n",
       "      <td>All</td>\n",
       "      <td>$35,145</td>\n",
       "      <td>$33,112</td>\n",
       "      <td>2.5</td>\n",
       "      <td>5.0</td>\n",
       "      <td>208</td>\n",
       "      <td>20</td>\n",
       "      <td>27</td>\n",
       "      <td>3823</td>\n",
       "      <td>109</td>\n",
       "      <td>186</td>\n",
       "    </tr>\n",
       "  </tbody>\n",
       "</table>\n",
       "</div>"
      ],
      "text/plain": [
       "      Make                    Model   Type  Origin DriveTrain      MSRP  \\\n",
       "424  Volvo  C70 HPT convertible 2dr  Sedan  Europe      Front  $42,565    \n",
       "425  Volvo               S80 T6 4dr  Sedan  Europe      Front  $45,210    \n",
       "426  Volvo                      V40  Wagon  Europe      Front  $26,135    \n",
       "427  Volvo                     XC70  Wagon  Europe        All  $35,145    \n",
       "428  Volvo                     XC70  Wagon  Europe        All  $35,145    \n",
       "\n",
       "      Invoice  EngineSize  Cylinders  Horsepower  MPG_City  MPG_Highway  \\\n",
       "424  $40,083          2.3        5.0         242        20           26   \n",
       "425  $42,573          2.9        6.0         268        19           26   \n",
       "426  $24,641          1.9        4.0         170        22           29   \n",
       "427  $33,112          2.5        5.0         208        20           27   \n",
       "428  $33,112          2.5        5.0         208        20           27   \n",
       "\n",
       "     Weight  Wheelbase  Length  \n",
       "424    3450        105     186  \n",
       "425    3653        110     190  \n",
       "426    2822        101     180  \n",
       "427    3823        109     186  \n",
       "428    3823        109     186  "
      ]
     },
     "execution_count": 12,
     "metadata": {},
     "output_type": "execute_result"
    }
   ],
   "source": [
    "cars_df.tail()"
   ]
  },
  {
   "cell_type": "code",
   "execution_count": 14,
   "id": "6748ca7d-f428-4b09-adb7-2b705ad1b0f1",
   "metadata": {},
   "outputs": [
    {
     "data": {
      "text/plain": [
       "Index(['Make', 'Model', 'Type', 'Origin', 'DriveTrain', 'MSRP', 'Invoice',\n",
       "       'EngineSize', 'Cylinders', 'Horsepower', 'MPG_City', 'MPG_Highway',\n",
       "       'Weight', 'Wheelbase', 'Length'],\n",
       "      dtype='object')"
      ]
     },
     "execution_count": 14,
     "metadata": {},
     "output_type": "execute_result"
    }
   ],
   "source": [
    "cars_df.columns"
   ]
  },
  {
   "cell_type": "code",
   "execution_count": 16,
   "id": "6df5d21e-3864-4c44-a28a-f61c507ecd96",
   "metadata": {},
   "outputs": [],
   "source": [
    "cars_df.rename(columns={'MSRP':'MRP', 'MPG_City':'Mileage_City', 'MPG_Highway':'Mileage_Highway'}, inplace=True) "
   ]
  },
  {
   "cell_type": "code",
   "execution_count": 17,
   "id": "22467e2a-dca2-4a64-a324-0ddbd18d8ef1",
   "metadata": {},
   "outputs": [
    {
     "data": {
      "text/plain": [
       "Index(['Make', 'Model', 'Type', 'Origin', 'DriveTrain', 'MRP', 'Invoice',\n",
       "       'EngineSize', 'Cylinders', 'Horsepower', 'Mileage_City',\n",
       "       'Mileage_Highway', 'Weight', 'Wheelbase', 'Length'],\n",
       "      dtype='object')"
      ]
     },
     "execution_count": 17,
     "metadata": {},
     "output_type": "execute_result"
    }
   ],
   "source": [
    "cars_df.columns"
   ]
  },
  {
   "cell_type": "code",
   "execution_count": 20,
   "id": "f21b293c-42fe-4395-aec0-d6180b686780",
   "metadata": {},
   "outputs": [
    {
     "data": {
      "text/html": [
       "<div>\n",
       "<style scoped>\n",
       "    .dataframe tbody tr th:only-of-type {\n",
       "        vertical-align: middle;\n",
       "    }\n",
       "\n",
       "    .dataframe tbody tr th {\n",
       "        vertical-align: top;\n",
       "    }\n",
       "\n",
       "    .dataframe thead th {\n",
       "        text-align: right;\n",
       "    }\n",
       "</style>\n",
       "<table border=\"1\" class=\"dataframe\">\n",
       "  <thead>\n",
       "    <tr style=\"text-align: right;\">\n",
       "      <th></th>\n",
       "      <th>EngineSize</th>\n",
       "      <th>Cylinders</th>\n",
       "      <th>Horsepower</th>\n",
       "      <th>Mileage_City</th>\n",
       "      <th>Mileage_Highway</th>\n",
       "      <th>Weight</th>\n",
       "      <th>Wheelbase</th>\n",
       "      <th>Length</th>\n",
       "    </tr>\n",
       "  </thead>\n",
       "  <tbody>\n",
       "    <tr>\n",
       "      <th>count</th>\n",
       "      <td>429.000000</td>\n",
       "      <td>427.000000</td>\n",
       "      <td>429.000000</td>\n",
       "      <td>429.000000</td>\n",
       "      <td>429.000000</td>\n",
       "      <td>429.000000</td>\n",
       "      <td>429.000000</td>\n",
       "      <td>429.000000</td>\n",
       "    </tr>\n",
       "    <tr>\n",
       "      <th>mean</th>\n",
       "      <td>3.195105</td>\n",
       "      <td>5.805621</td>\n",
       "      <td>215.867133</td>\n",
       "      <td>20.060606</td>\n",
       "      <td>26.843823</td>\n",
       "      <td>3578.524476</td>\n",
       "      <td>108.156177</td>\n",
       "      <td>186.361305</td>\n",
       "    </tr>\n",
       "    <tr>\n",
       "      <th>std</th>\n",
       "      <td>1.107810</td>\n",
       "      <td>1.557103</td>\n",
       "      <td>71.753072</td>\n",
       "      <td>5.232095</td>\n",
       "      <td>5.734495</td>\n",
       "      <td>758.188346</td>\n",
       "      <td>8.302198</td>\n",
       "      <td>14.341219</td>\n",
       "    </tr>\n",
       "    <tr>\n",
       "      <th>min</th>\n",
       "      <td>1.300000</td>\n",
       "      <td>3.000000</td>\n",
       "      <td>73.000000</td>\n",
       "      <td>10.000000</td>\n",
       "      <td>12.000000</td>\n",
       "      <td>1850.000000</td>\n",
       "      <td>89.000000</td>\n",
       "      <td>143.000000</td>\n",
       "    </tr>\n",
       "    <tr>\n",
       "      <th>25%</th>\n",
       "      <td>2.400000</td>\n",
       "      <td>4.000000</td>\n",
       "      <td>165.000000</td>\n",
       "      <td>17.000000</td>\n",
       "      <td>24.000000</td>\n",
       "      <td>3105.000000</td>\n",
       "      <td>103.000000</td>\n",
       "      <td>178.000000</td>\n",
       "    </tr>\n",
       "    <tr>\n",
       "      <th>50%</th>\n",
       "      <td>3.000000</td>\n",
       "      <td>6.000000</td>\n",
       "      <td>210.000000</td>\n",
       "      <td>19.000000</td>\n",
       "      <td>26.000000</td>\n",
       "      <td>3476.000000</td>\n",
       "      <td>107.000000</td>\n",
       "      <td>187.000000</td>\n",
       "    </tr>\n",
       "    <tr>\n",
       "      <th>75%</th>\n",
       "      <td>3.900000</td>\n",
       "      <td>6.000000</td>\n",
       "      <td>255.000000</td>\n",
       "      <td>21.000000</td>\n",
       "      <td>29.000000</td>\n",
       "      <td>3977.000000</td>\n",
       "      <td>112.000000</td>\n",
       "      <td>194.000000</td>\n",
       "    </tr>\n",
       "    <tr>\n",
       "      <th>max</th>\n",
       "      <td>8.300000</td>\n",
       "      <td>12.000000</td>\n",
       "      <td>500.000000</td>\n",
       "      <td>60.000000</td>\n",
       "      <td>66.000000</td>\n",
       "      <td>7190.000000</td>\n",
       "      <td>144.000000</td>\n",
       "      <td>238.000000</td>\n",
       "    </tr>\n",
       "  </tbody>\n",
       "</table>\n",
       "</div>"
      ],
      "text/plain": [
       "       EngineSize   Cylinders  Horsepower  Mileage_City  Mileage_Highway  \\\n",
       "count  429.000000  427.000000  429.000000    429.000000       429.000000   \n",
       "mean     3.195105    5.805621  215.867133     20.060606        26.843823   \n",
       "std      1.107810    1.557103   71.753072      5.232095         5.734495   \n",
       "min      1.300000    3.000000   73.000000     10.000000        12.000000   \n",
       "25%      2.400000    4.000000  165.000000     17.000000        24.000000   \n",
       "50%      3.000000    6.000000  210.000000     19.000000        26.000000   \n",
       "75%      3.900000    6.000000  255.000000     21.000000        29.000000   \n",
       "max      8.300000   12.000000  500.000000     60.000000        66.000000   \n",
       "\n",
       "            Weight   Wheelbase      Length  \n",
       "count   429.000000  429.000000  429.000000  \n",
       "mean   3578.524476  108.156177  186.361305  \n",
       "std     758.188346    8.302198   14.341219  \n",
       "min    1850.000000   89.000000  143.000000  \n",
       "25%    3105.000000  103.000000  178.000000  \n",
       "50%    3476.000000  107.000000  187.000000  \n",
       "75%    3977.000000  112.000000  194.000000  \n",
       "max    7190.000000  144.000000  238.000000  "
      ]
     },
     "execution_count": 20,
     "metadata": {},
     "output_type": "execute_result"
    }
   ],
   "source": [
    "cars_df.describe()"
   ]
  },
  {
   "cell_type": "code",
   "execution_count": 21,
   "id": "4d60eae2-eb21-4f47-bb6a-49cdecd51dfb",
   "metadata": {},
   "outputs": [
    {
     "data": {
      "text/plain": [
       "Index(['Make', 'Model', 'Type', 'Origin', 'DriveTrain', 'MRP', 'Invoice',\n",
       "       'EngineSize', 'Cylinders', 'Horsepower', 'Mileage_City',\n",
       "       'Mileage_Highway', 'Weight', 'Wheelbase', 'Length'],\n",
       "      dtype='object')"
      ]
     },
     "execution_count": 21,
     "metadata": {},
     "output_type": "execute_result"
    }
   ],
   "source": [
    "cars_df.columns"
   ]
  },
  {
   "cell_type": "code",
   "execution_count": 22,
   "id": "c42f232c-b12d-4aad-abfc-0ef4f1763e87",
   "metadata": {},
   "outputs": [],
   "source": [
    "cars_df.drop('Model', axis=1, inplace=True)"
   ]
  },
  {
   "cell_type": "code",
   "execution_count": 23,
   "id": "6fbeaaa6-a8fc-4c84-a869-27eead347cb5",
   "metadata": {},
   "outputs": [
    {
     "data": {
      "text/plain": [
       "Index(['Make', 'Type', 'Origin', 'DriveTrain', 'MRP', 'Invoice', 'EngineSize',\n",
       "       'Cylinders', 'Horsepower', 'Mileage_City', 'Mileage_Highway', 'Weight',\n",
       "       'Wheelbase', 'Length'],\n",
       "      dtype='object')"
      ]
     },
     "execution_count": 23,
     "metadata": {},
     "output_type": "execute_result"
    }
   ],
   "source": [
    "cars_df.columns\n"
   ]
  },
  {
   "cell_type": "code",
   "execution_count": 24,
   "id": "5eb32829-4469-4ef3-8f16-7ae27ad53120",
   "metadata": {},
   "outputs": [],
   "source": [
    "cars_df.drop(['MRP','Invoice'], axis=1, inplace=True)"
   ]
  },
  {
   "cell_type": "code",
   "execution_count": 25,
   "id": "9dda31ce-ab30-4c7e-b81c-174a39d05e0e",
   "metadata": {},
   "outputs": [
    {
     "data": {
      "text/plain": [
       "Index(['Make', 'Type', 'Origin', 'DriveTrain', 'EngineSize', 'Cylinders',\n",
       "       'Horsepower', 'Mileage_City', 'Mileage_Highway', 'Weight', 'Wheelbase',\n",
       "       'Length'],\n",
       "      dtype='object')"
      ]
     },
     "execution_count": 25,
     "metadata": {},
     "output_type": "execute_result"
    }
   ],
   "source": [
    "cars_df.columns\n"
   ]
  },
  {
   "cell_type": "code",
   "execution_count": 29,
   "id": "78b98926-bd1f-4a5d-8c19-942e38c595a7",
   "metadata": {},
   "outputs": [
    {
     "data": {
      "text/plain": [
       "0      False\n",
       "1      False\n",
       "2      False\n",
       "3      False\n",
       "4      False\n",
       "       ...  \n",
       "424    False\n",
       "425    False\n",
       "426    False\n",
       "427    False\n",
       "428     True\n",
       "Length: 429, dtype: bool"
      ]
     },
     "execution_count": 29,
     "metadata": {},
     "output_type": "execute_result"
    }
   ],
   "source": [
    "cars_df.duplicated()"
   ]
  },
  {
   "cell_type": "code",
   "execution_count": 30,
   "id": "aff5f895-3912-4598-ba97-383a4860eed7",
   "metadata": {},
   "outputs": [
    {
     "data": {
      "text/plain": [
       "22"
      ]
     },
     "execution_count": 30,
     "metadata": {},
     "output_type": "execute_result"
    }
   ],
   "source": [
    "cars_df.duplicated().sum()"
   ]
  },
  {
   "cell_type": "code",
   "execution_count": 31,
   "id": "9fab2746-dcf5-4c59-b71a-5b90b00981b5",
   "metadata": {},
   "outputs": [],
   "source": [
    "cars_df.drop_duplicates(inplace=True)"
   ]
  },
  {
   "cell_type": "code",
   "execution_count": 32,
   "id": "089f646f-c5c3-4765-8a27-8305e4fe32c4",
   "metadata": {},
   "outputs": [
    {
     "data": {
      "text/plain": [
       "0"
      ]
     },
     "execution_count": 32,
     "metadata": {},
     "output_type": "execute_result"
    }
   ],
   "source": [
    "cars_df.duplicated().sum()"
   ]
  },
  {
   "cell_type": "code",
   "execution_count": 33,
   "id": "76ba7898-0b0e-4239-a47c-56c03dd84858",
   "metadata": {},
   "outputs": [
    {
     "data": {
      "text/plain": [
       "Make               0\n",
       "Type               0\n",
       "Origin             0\n",
       "DriveTrain         0\n",
       "EngineSize         0\n",
       "Cylinders          2\n",
       "Horsepower         0\n",
       "Mileage_City       0\n",
       "Mileage_Highway    0\n",
       "Weight             0\n",
       "Wheelbase          0\n",
       "Length             0\n",
       "dtype: int64"
      ]
     },
     "execution_count": 33,
     "metadata": {},
     "output_type": "execute_result"
    }
   ],
   "source": [
    "cars_df.isnull().sum()"
   ]
  },
  {
   "cell_type": "code",
   "execution_count": 34,
   "id": "1c41ed6f-0b01-4969-a35c-54dbe90977dd",
   "metadata": {},
   "outputs": [
    {
     "data": {
      "text/plain": [
       "5.817283950617284"
      ]
     },
     "execution_count": 34,
     "metadata": {},
     "output_type": "execute_result"
    }
   ],
   "source": [
    "cars_df['Cylinders'].mean()          "
   ]
  },
  {
   "cell_type": "code",
   "execution_count": 35,
   "id": "8544e9da-517e-48fb-8fac-b126b6c6958a",
   "metadata": {},
   "outputs": [
    {
     "name": "stderr",
     "output_type": "stream",
     "text": [
      "C:\\Users\\DSU-CSE513-16\\AppData\\Local\\Temp\\ipykernel_8252\\3381060714.py:1: FutureWarning: A value is trying to be set on a copy of a DataFrame or Series through chained assignment using an inplace method.\n",
      "The behavior will change in pandas 3.0. This inplace method will never work because the intermediate object on which we are setting values always behaves as a copy.\n",
      "\n",
      "For example, when doing 'df[col].method(value, inplace=True)', try using 'df.method({col: value}, inplace=True)' or df[col] = df[col].method(value) instead, to perform the operation inplace on the original object.\n",
      "\n",
      "\n",
      "  cars_df['Cylinders'].fillna(cars_df['Cylinders'].mean(), inplace=True)\n"
     ]
    }
   ],
   "source": [
    "cars_df['Cylinders'].fillna(cars_df['Cylinders'].mean(), inplace=True)"
   ]
  },
  {
   "cell_type": "code",
   "execution_count": 36,
   "id": "6e36bdf4-3856-483c-baf7-3cb3df731b1b",
   "metadata": {},
   "outputs": [
    {
     "data": {
      "text/plain": [
       "Make               0\n",
       "Type               0\n",
       "Origin             0\n",
       "DriveTrain         0\n",
       "EngineSize         0\n",
       "Cylinders          0\n",
       "Horsepower         0\n",
       "Mileage_City       0\n",
       "Mileage_Highway    0\n",
       "Weight             0\n",
       "Wheelbase          0\n",
       "Length             0\n",
       "dtype: int64"
      ]
     },
     "execution_count": 36,
     "metadata": {},
     "output_type": "execute_result"
    }
   ],
   "source": [
    "cars_df.isnull().sum()"
   ]
  },
  {
   "cell_type": "code",
   "execution_count": 39,
   "id": "9f59aa0e-e430-439f-88dd-53b223b9686c",
   "metadata": {},
   "outputs": [
    {
     "data": {
      "text/plain": [
       "Make                object\n",
       "Type                object\n",
       "Origin              object\n",
       "DriveTrain          object\n",
       "EngineSize         float64\n",
       "Cylinders          float64\n",
       "Horsepower           int64\n",
       "Mileage_City         int64\n",
       "Mileage_Highway      int64\n",
       "Weight               int64\n",
       "Wheelbase            int64\n",
       "Length               int64\n",
       "dtype: object"
      ]
     },
     "execution_count": 39,
     "metadata": {},
     "output_type": "execute_result"
    }
   ],
   "source": [
    "cars_df.dtypes"
   ]
  },
  {
   "cell_type": "code",
   "execution_count": 41,
   "id": "56c80afb-5f9d-432f-b5b1-dbd849652150",
   "metadata": {},
   "outputs": [],
   "source": [
    "cars_df['Cylinders']=cars_df['Cylinders'].astype(np.int64)"
   ]
  },
  {
   "cell_type": "code",
   "execution_count": 42,
   "id": "352641d6-bfb4-4993-9976-2fbb74da4ad7",
   "metadata": {},
   "outputs": [
    {
     "data": {
      "text/plain": [
       "Make                object\n",
       "Type                object\n",
       "Origin              object\n",
       "DriveTrain          object\n",
       "EngineSize         float64\n",
       "Cylinders            int64\n",
       "Horsepower           int64\n",
       "Mileage_City         int64\n",
       "Mileage_Highway      int64\n",
       "Weight               int64\n",
       "Wheelbase            int64\n",
       "Length               int64\n",
       "dtype: object"
      ]
     },
     "execution_count": 42,
     "metadata": {},
     "output_type": "execute_result"
    }
   ],
   "source": [
    "cars_df.dtypes"
   ]
  },
  {
   "cell_type": "code",
   "execution_count": 43,
   "id": "b104c00c-d9cc-4af4-bd29-24c711aa5ef8",
   "metadata": {},
   "outputs": [
    {
     "data": {
      "text/plain": [
       "0      Acura\n",
       "1      Acura\n",
       "2      Acura\n",
       "3      Acura\n",
       "4      Acura\n",
       "       ...  \n",
       "423    Volvo\n",
       "424    Volvo\n",
       "425    Volvo\n",
       "426    Volvo\n",
       "427    Volvo\n",
       "Name: Make, Length: 407, dtype: object"
      ]
     },
     "execution_count": 43,
     "metadata": {},
     "output_type": "execute_result"
    }
   ],
   "source": [
    "cars_df['Make']"
   ]
  },
  {
   "cell_type": "code",
   "execution_count": 44,
   "id": "f1b9e7f3-2da8-4b8a-a220-f653cce4a498",
   "metadata": {},
   "outputs": [
    {
     "data": {
      "text/html": [
       "<div>\n",
       "<style scoped>\n",
       "    .dataframe tbody tr th:only-of-type {\n",
       "        vertical-align: middle;\n",
       "    }\n",
       "\n",
       "    .dataframe tbody tr th {\n",
       "        vertical-align: top;\n",
       "    }\n",
       "\n",
       "    .dataframe thead th {\n",
       "        text-align: right;\n",
       "    }\n",
       "</style>\n",
       "<table border=\"1\" class=\"dataframe\">\n",
       "  <thead>\n",
       "    <tr style=\"text-align: right;\">\n",
       "      <th></th>\n",
       "      <th>Make</th>\n",
       "      <th>Origin</th>\n",
       "      <th>Type</th>\n",
       "      <th>DriveTrain</th>\n",
       "    </tr>\n",
       "  </thead>\n",
       "  <tbody>\n",
       "    <tr>\n",
       "      <th>0</th>\n",
       "      <td>Acura</td>\n",
       "      <td>Asia</td>\n",
       "      <td>SUV</td>\n",
       "      <td>All</td>\n",
       "    </tr>\n",
       "    <tr>\n",
       "      <th>1</th>\n",
       "      <td>Acura</td>\n",
       "      <td>Asia</td>\n",
       "      <td>Sedan</td>\n",
       "      <td>Front</td>\n",
       "    </tr>\n",
       "    <tr>\n",
       "      <th>2</th>\n",
       "      <td>Acura</td>\n",
       "      <td>Asia</td>\n",
       "      <td>Sedan</td>\n",
       "      <td>Front</td>\n",
       "    </tr>\n",
       "    <tr>\n",
       "      <th>3</th>\n",
       "      <td>Acura</td>\n",
       "      <td>Asia</td>\n",
       "      <td>Sedan</td>\n",
       "      <td>Front</td>\n",
       "    </tr>\n",
       "    <tr>\n",
       "      <th>4</th>\n",
       "      <td>Acura</td>\n",
       "      <td>Asia</td>\n",
       "      <td>Sedan</td>\n",
       "      <td>Front</td>\n",
       "    </tr>\n",
       "    <tr>\n",
       "      <th>...</th>\n",
       "      <td>...</td>\n",
       "      <td>...</td>\n",
       "      <td>...</td>\n",
       "      <td>...</td>\n",
       "    </tr>\n",
       "    <tr>\n",
       "      <th>423</th>\n",
       "      <td>Volvo</td>\n",
       "      <td>Europe</td>\n",
       "      <td>Sedan</td>\n",
       "      <td>Front</td>\n",
       "    </tr>\n",
       "    <tr>\n",
       "      <th>424</th>\n",
       "      <td>Volvo</td>\n",
       "      <td>Europe</td>\n",
       "      <td>Sedan</td>\n",
       "      <td>Front</td>\n",
       "    </tr>\n",
       "    <tr>\n",
       "      <th>425</th>\n",
       "      <td>Volvo</td>\n",
       "      <td>Europe</td>\n",
       "      <td>Sedan</td>\n",
       "      <td>Front</td>\n",
       "    </tr>\n",
       "    <tr>\n",
       "      <th>426</th>\n",
       "      <td>Volvo</td>\n",
       "      <td>Europe</td>\n",
       "      <td>Wagon</td>\n",
       "      <td>Front</td>\n",
       "    </tr>\n",
       "    <tr>\n",
       "      <th>427</th>\n",
       "      <td>Volvo</td>\n",
       "      <td>Europe</td>\n",
       "      <td>Wagon</td>\n",
       "      <td>All</td>\n",
       "    </tr>\n",
       "  </tbody>\n",
       "</table>\n",
       "<p>407 rows × 4 columns</p>\n",
       "</div>"
      ],
      "text/plain": [
       "      Make  Origin   Type DriveTrain\n",
       "0    Acura    Asia    SUV        All\n",
       "1    Acura    Asia  Sedan      Front\n",
       "2    Acura    Asia  Sedan      Front\n",
       "3    Acura    Asia  Sedan      Front\n",
       "4    Acura    Asia  Sedan      Front\n",
       "..     ...     ...    ...        ...\n",
       "423  Volvo  Europe  Sedan      Front\n",
       "424  Volvo  Europe  Sedan      Front\n",
       "425  Volvo  Europe  Sedan      Front\n",
       "426  Volvo  Europe  Wagon      Front\n",
       "427  Volvo  Europe  Wagon        All\n",
       "\n",
       "[407 rows x 4 columns]"
      ]
     },
     "execution_count": 44,
     "metadata": {},
     "output_type": "execute_result"
    }
   ],
   "source": [
    "cars_df[['Make','Origin' ,'Type','DriveTrain' ]]"
   ]
  },
  {
   "cell_type": "code",
   "execution_count": 45,
   "id": "37b625de-3d15-4c0a-9c08-f51409226807",
   "metadata": {},
   "outputs": [
    {
     "data": {
      "text/plain": [
       "array(['Asia', 'Europe', 'USA'], dtype=object)"
      ]
     },
     "execution_count": 45,
     "metadata": {},
     "output_type": "execute_result"
    }
   ],
   "source": [
    "cars_df['Origin'].unique()"
   ]
  },
  {
   "cell_type": "code",
   "execution_count": 47,
   "id": "d115e671-7702-44f8-9a27-6af0080abf86",
   "metadata": {},
   "outputs": [
    {
     "data": {
      "text/plain": [
       "'Acura'"
      ]
     },
     "execution_count": 47,
     "metadata": {},
     "output_type": "execute_result"
    }
   ],
   "source": [
    "cars_df.loc[0,'Make']"
   ]
  },
  {
   "cell_type": "code",
   "execution_count": 51,
   "id": "324d0f0d-4211-4504-b690-d9c2f5fee193",
   "metadata": {},
   "outputs": [
    {
     "data": {
      "text/html": [
       "<div>\n",
       "<style scoped>\n",
       "    .dataframe tbody tr th:only-of-type {\n",
       "        vertical-align: middle;\n",
       "    }\n",
       "\n",
       "    .dataframe tbody tr th {\n",
       "        vertical-align: top;\n",
       "    }\n",
       "\n",
       "    .dataframe thead th {\n",
       "        text-align: right;\n",
       "    }\n",
       "</style>\n",
       "<table border=\"1\" class=\"dataframe\">\n",
       "  <thead>\n",
       "    <tr style=\"text-align: right;\">\n",
       "      <th></th>\n",
       "      <th>Make</th>\n",
       "      <th>Type</th>\n",
       "      <th>Origin</th>\n",
       "      <th>DriveTrain</th>\n",
       "      <th>EngineSize</th>\n",
       "    </tr>\n",
       "  </thead>\n",
       "  <tbody>\n",
       "    <tr>\n",
       "      <th>0</th>\n",
       "      <td>Acura</td>\n",
       "      <td>SUV</td>\n",
       "      <td>Asia</td>\n",
       "      <td>All</td>\n",
       "      <td>3.5</td>\n",
       "    </tr>\n",
       "    <tr>\n",
       "      <th>1</th>\n",
       "      <td>Acura</td>\n",
       "      <td>Sedan</td>\n",
       "      <td>Asia</td>\n",
       "      <td>Front</td>\n",
       "      <td>2.0</td>\n",
       "    </tr>\n",
       "    <tr>\n",
       "      <th>2</th>\n",
       "      <td>Acura</td>\n",
       "      <td>Sedan</td>\n",
       "      <td>Asia</td>\n",
       "      <td>Front</td>\n",
       "      <td>2.4</td>\n",
       "    </tr>\n",
       "  </tbody>\n",
       "</table>\n",
       "</div>"
      ],
      "text/plain": [
       "    Make   Type Origin DriveTrain  EngineSize\n",
       "0  Acura    SUV   Asia        All         3.5\n",
       "1  Acura  Sedan   Asia      Front         2.0\n",
       "2  Acura  Sedan   Asia      Front         2.4"
      ]
     },
     "execution_count": 51,
     "metadata": {},
     "output_type": "execute_result"
    }
   ],
   "source": [
    "cars_df.loc[0:2,'Make':'EngineSize']"
   ]
  },
  {
   "cell_type": "code",
   "execution_count": 50,
   "id": "8c35deee-303b-410f-b8cc-a8bb521e976b",
   "metadata": {},
   "outputs": [
    {
     "data": {
      "text/html": [
       "<div>\n",
       "<style scoped>\n",
       "    .dataframe tbody tr th:only-of-type {\n",
       "        vertical-align: middle;\n",
       "    }\n",
       "\n",
       "    .dataframe tbody tr th {\n",
       "        vertical-align: top;\n",
       "    }\n",
       "\n",
       "    .dataframe thead th {\n",
       "        text-align: right;\n",
       "    }\n",
       "</style>\n",
       "<table border=\"1\" class=\"dataframe\">\n",
       "  <thead>\n",
       "    <tr style=\"text-align: right;\">\n",
       "      <th></th>\n",
       "      <th>Make</th>\n",
       "      <th>Type</th>\n",
       "      <th>Mileage_City</th>\n",
       "    </tr>\n",
       "  </thead>\n",
       "  <tbody>\n",
       "    <tr>\n",
       "      <th>0</th>\n",
       "      <td>Acura</td>\n",
       "      <td>SUV</td>\n",
       "      <td>17</td>\n",
       "    </tr>\n",
       "    <tr>\n",
       "      <th>23</th>\n",
       "      <td>Audi</td>\n",
       "      <td>Sports</td>\n",
       "      <td>21</td>\n",
       "    </tr>\n",
       "    <tr>\n",
       "      <th>423</th>\n",
       "      <td>Volvo</td>\n",
       "      <td>Sedan</td>\n",
       "      <td>21</td>\n",
       "    </tr>\n",
       "  </tbody>\n",
       "</table>\n",
       "</div>"
      ],
      "text/plain": [
       "      Make    Type  Mileage_City\n",
       "0    Acura     SUV            17\n",
       "23    Audi  Sports            21\n",
       "423  Volvo   Sedan            21"
      ]
     },
     "execution_count": 50,
     "metadata": {},
     "output_type": "execute_result"
    }
   ],
   "source": [
    "cars_df.loc[[0,23,423],['Make','Type','Mileage_City']]"
   ]
  },
  {
   "cell_type": "code",
   "execution_count": 54,
   "id": "b19b6559-fbda-4f42-ab19-f5255260d227",
   "metadata": {},
   "outputs": [
    {
     "data": {
      "text/html": [
       "<div>\n",
       "<style scoped>\n",
       "    .dataframe tbody tr th:only-of-type {\n",
       "        vertical-align: middle;\n",
       "    }\n",
       "\n",
       "    .dataframe tbody tr th {\n",
       "        vertical-align: top;\n",
       "    }\n",
       "\n",
       "    .dataframe thead th {\n",
       "        text-align: right;\n",
       "    }\n",
       "</style>\n",
       "<table border=\"1\" class=\"dataframe\">\n",
       "  <thead>\n",
       "    <tr style=\"text-align: right;\">\n",
       "      <th></th>\n",
       "      <th>Make</th>\n",
       "      <th>Type</th>\n",
       "      <th>Origin</th>\n",
       "    </tr>\n",
       "  </thead>\n",
       "  <tbody>\n",
       "    <tr>\n",
       "      <th>0</th>\n",
       "      <td>Acura</td>\n",
       "      <td>SUV</td>\n",
       "      <td>Asia</td>\n",
       "    </tr>\n",
       "    <tr>\n",
       "      <th>1</th>\n",
       "      <td>Acura</td>\n",
       "      <td>Sedan</td>\n",
       "      <td>Asia</td>\n",
       "    </tr>\n",
       "    <tr>\n",
       "      <th>2</th>\n",
       "      <td>Acura</td>\n",
       "      <td>Sedan</td>\n",
       "      <td>Asia</td>\n",
       "    </tr>\n",
       "    <tr>\n",
       "      <th>3</th>\n",
       "      <td>Acura</td>\n",
       "      <td>Sedan</td>\n",
       "      <td>Asia</td>\n",
       "    </tr>\n",
       "    <tr>\n",
       "      <th>4</th>\n",
       "      <td>Acura</td>\n",
       "      <td>Sedan</td>\n",
       "      <td>Asia</td>\n",
       "    </tr>\n",
       "  </tbody>\n",
       "</table>\n",
       "</div>"
      ],
      "text/plain": [
       "    Make   Type Origin\n",
       "0  Acura    SUV   Asia\n",
       "1  Acura  Sedan   Asia\n",
       "2  Acura  Sedan   Asia\n",
       "3  Acura  Sedan   Asia\n",
       "4  Acura  Sedan   Asia"
      ]
     },
     "execution_count": 54,
     "metadata": {},
     "output_type": "execute_result"
    }
   ],
   "source": [
    "cars_df.iloc[0:5, 0:3]"
   ]
  },
  {
   "cell_type": "code",
   "execution_count": 56,
   "id": "4d757564-43f6-4139-baaf-1cdf83699680",
   "metadata": {},
   "outputs": [
    {
     "data": {
      "text/plain": [
       "'Acura'"
      ]
     },
     "execution_count": 56,
     "metadata": {},
     "output_type": "execute_result"
    }
   ],
   "source": [
    "cars_df.iloc[0,0]"
   ]
  },
  {
   "cell_type": "code",
   "execution_count": 57,
   "id": "757e029a-2f56-4c66-8c35-f2ebaaaebe7a",
   "metadata": {},
   "outputs": [
    {
     "data": {
      "text/html": [
       "<div>\n",
       "<style scoped>\n",
       "    .dataframe tbody tr th:only-of-type {\n",
       "        vertical-align: middle;\n",
       "    }\n",
       "\n",
       "    .dataframe tbody tr th {\n",
       "        vertical-align: top;\n",
       "    }\n",
       "\n",
       "    .dataframe thead th {\n",
       "        text-align: right;\n",
       "    }\n",
       "</style>\n",
       "<table border=\"1\" class=\"dataframe\">\n",
       "  <thead>\n",
       "    <tr style=\"text-align: right;\">\n",
       "      <th></th>\n",
       "      <th>Make</th>\n",
       "      <th>Type</th>\n",
       "      <th>Origin</th>\n",
       "      <th>DriveTrain</th>\n",
       "      <th>EngineSize</th>\n",
       "      <th>Cylinders</th>\n",
       "      <th>Horsepower</th>\n",
       "      <th>Mileage_City</th>\n",
       "      <th>Mileage_Highway</th>\n",
       "      <th>Weight</th>\n",
       "      <th>Wheelbase</th>\n",
       "      <th>Length</th>\n",
       "    </tr>\n",
       "  </thead>\n",
       "  <tbody>\n",
       "    <tr>\n",
       "      <th>0</th>\n",
       "      <td>Acura</td>\n",
       "      <td>SUV</td>\n",
       "      <td>Asia</td>\n",
       "      <td>All</td>\n",
       "      <td>3.5</td>\n",
       "      <td>6</td>\n",
       "      <td>265</td>\n",
       "      <td>17</td>\n",
       "      <td>23</td>\n",
       "      <td>4451</td>\n",
       "      <td>106</td>\n",
       "      <td>189</td>\n",
       "    </tr>\n",
       "    <tr>\n",
       "      <th>1</th>\n",
       "      <td>Acura</td>\n",
       "      <td>Sedan</td>\n",
       "      <td>Asia</td>\n",
       "      <td>Front</td>\n",
       "      <td>2.0</td>\n",
       "      <td>4</td>\n",
       "      <td>200</td>\n",
       "      <td>24</td>\n",
       "      <td>31</td>\n",
       "      <td>2778</td>\n",
       "      <td>101</td>\n",
       "      <td>172</td>\n",
       "    </tr>\n",
       "    <tr>\n",
       "      <th>2</th>\n",
       "      <td>Acura</td>\n",
       "      <td>Sedan</td>\n",
       "      <td>Asia</td>\n",
       "      <td>Front</td>\n",
       "      <td>2.4</td>\n",
       "      <td>4</td>\n",
       "      <td>200</td>\n",
       "      <td>22</td>\n",
       "      <td>29</td>\n",
       "      <td>3230</td>\n",
       "      <td>105</td>\n",
       "      <td>183</td>\n",
       "    </tr>\n",
       "    <tr>\n",
       "      <th>3</th>\n",
       "      <td>Acura</td>\n",
       "      <td>Sedan</td>\n",
       "      <td>Asia</td>\n",
       "      <td>Front</td>\n",
       "      <td>3.2</td>\n",
       "      <td>6</td>\n",
       "      <td>270</td>\n",
       "      <td>20</td>\n",
       "      <td>28</td>\n",
       "      <td>3575</td>\n",
       "      <td>108</td>\n",
       "      <td>186</td>\n",
       "    </tr>\n",
       "    <tr>\n",
       "      <th>4</th>\n",
       "      <td>Acura</td>\n",
       "      <td>Sedan</td>\n",
       "      <td>Asia</td>\n",
       "      <td>Front</td>\n",
       "      <td>3.5</td>\n",
       "      <td>6</td>\n",
       "      <td>225</td>\n",
       "      <td>18</td>\n",
       "      <td>24</td>\n",
       "      <td>3880</td>\n",
       "      <td>115</td>\n",
       "      <td>197</td>\n",
       "    </tr>\n",
       "    <tr>\n",
       "      <th>...</th>\n",
       "      <td>...</td>\n",
       "      <td>...</td>\n",
       "      <td>...</td>\n",
       "      <td>...</td>\n",
       "      <td>...</td>\n",
       "      <td>...</td>\n",
       "      <td>...</td>\n",
       "      <td>...</td>\n",
       "      <td>...</td>\n",
       "      <td>...</td>\n",
       "      <td>...</td>\n",
       "      <td>...</td>\n",
       "    </tr>\n",
       "    <tr>\n",
       "      <th>396</th>\n",
       "      <td>Toyota</td>\n",
       "      <td>Sports</td>\n",
       "      <td>Asia</td>\n",
       "      <td>Rear</td>\n",
       "      <td>1.8</td>\n",
       "      <td>4</td>\n",
       "      <td>138</td>\n",
       "      <td>26</td>\n",
       "      <td>32</td>\n",
       "      <td>2195</td>\n",
       "      <td>97</td>\n",
       "      <td>153</td>\n",
       "    </tr>\n",
       "    <tr>\n",
       "      <th>397</th>\n",
       "      <td>Toyota</td>\n",
       "      <td>Truck</td>\n",
       "      <td>Asia</td>\n",
       "      <td>Rear</td>\n",
       "      <td>2.4</td>\n",
       "      <td>4</td>\n",
       "      <td>142</td>\n",
       "      <td>22</td>\n",
       "      <td>27</td>\n",
       "      <td>2750</td>\n",
       "      <td>103</td>\n",
       "      <td>191</td>\n",
       "    </tr>\n",
       "    <tr>\n",
       "      <th>398</th>\n",
       "      <td>Toyota</td>\n",
       "      <td>Truck</td>\n",
       "      <td>Asia</td>\n",
       "      <td>Rear</td>\n",
       "      <td>3.4</td>\n",
       "      <td>6</td>\n",
       "      <td>190</td>\n",
       "      <td>16</td>\n",
       "      <td>18</td>\n",
       "      <td>3925</td>\n",
       "      <td>128</td>\n",
       "      <td>218</td>\n",
       "    </tr>\n",
       "    <tr>\n",
       "      <th>399</th>\n",
       "      <td>Toyota</td>\n",
       "      <td>Truck</td>\n",
       "      <td>Asia</td>\n",
       "      <td>All</td>\n",
       "      <td>3.4</td>\n",
       "      <td>6</td>\n",
       "      <td>190</td>\n",
       "      <td>14</td>\n",
       "      <td>17</td>\n",
       "      <td>4435</td>\n",
       "      <td>128</td>\n",
       "      <td>218</td>\n",
       "    </tr>\n",
       "    <tr>\n",
       "      <th>400</th>\n",
       "      <td>Toyota</td>\n",
       "      <td>Wagon</td>\n",
       "      <td>Asia</td>\n",
       "      <td>Front</td>\n",
       "      <td>1.8</td>\n",
       "      <td>4</td>\n",
       "      <td>130</td>\n",
       "      <td>29</td>\n",
       "      <td>36</td>\n",
       "      <td>2679</td>\n",
       "      <td>102</td>\n",
       "      <td>171</td>\n",
       "    </tr>\n",
       "  </tbody>\n",
       "</table>\n",
       "<p>152 rows × 12 columns</p>\n",
       "</div>"
      ],
      "text/plain": [
       "       Make    Type Origin DriveTrain  EngineSize  Cylinders  Horsepower  \\\n",
       "0     Acura     SUV   Asia        All         3.5          6         265   \n",
       "1     Acura   Sedan   Asia      Front         2.0          4         200   \n",
       "2     Acura   Sedan   Asia      Front         2.4          4         200   \n",
       "3     Acura   Sedan   Asia      Front         3.2          6         270   \n",
       "4     Acura   Sedan   Asia      Front         3.5          6         225   \n",
       "..      ...     ...    ...        ...         ...        ...         ...   \n",
       "396  Toyota  Sports   Asia       Rear         1.8          4         138   \n",
       "397  Toyota   Truck   Asia       Rear         2.4          4         142   \n",
       "398  Toyota   Truck   Asia       Rear         3.4          6         190   \n",
       "399  Toyota   Truck   Asia        All         3.4          6         190   \n",
       "400  Toyota   Wagon   Asia      Front         1.8          4         130   \n",
       "\n",
       "     Mileage_City  Mileage_Highway  Weight  Wheelbase  Length  \n",
       "0              17               23    4451        106     189  \n",
       "1              24               31    2778        101     172  \n",
       "2              22               29    3230        105     183  \n",
       "3              20               28    3575        108     186  \n",
       "4              18               24    3880        115     197  \n",
       "..            ...              ...     ...        ...     ...  \n",
       "396            26               32    2195         97     153  \n",
       "397            22               27    2750        103     191  \n",
       "398            16               18    3925        128     218  \n",
       "399            14               17    4435        128     218  \n",
       "400            29               36    2679        102     171  \n",
       "\n",
       "[152 rows x 12 columns]"
      ]
     },
     "execution_count": 57,
     "metadata": {},
     "output_type": "execute_result"
    }
   ],
   "source": [
    "cars_df.loc[cars_df['Origin'] == 'Asia', :]"
   ]
  },
  {
   "cell_type": "code",
   "execution_count": 58,
   "id": "8c64d8fc-f5ac-4a42-83df-afc248d70063",
   "metadata": {},
   "outputs": [
    {
     "data": {
      "text/html": [
       "<div>\n",
       "<style scoped>\n",
       "    .dataframe tbody tr th:only-of-type {\n",
       "        vertical-align: middle;\n",
       "    }\n",
       "\n",
       "    .dataframe tbody tr th {\n",
       "        vertical-align: top;\n",
       "    }\n",
       "\n",
       "    .dataframe thead th {\n",
       "        text-align: right;\n",
       "    }\n",
       "</style>\n",
       "<table border=\"1\" class=\"dataframe\">\n",
       "  <thead>\n",
       "    <tr style=\"text-align: right;\">\n",
       "      <th></th>\n",
       "      <th>Make</th>\n",
       "      <th>Type</th>\n",
       "      <th>Origin</th>\n",
       "      <th>DriveTrain</th>\n",
       "      <th>EngineSize</th>\n",
       "      <th>Cylinders</th>\n",
       "      <th>Horsepower</th>\n",
       "      <th>Mileage_City</th>\n",
       "      <th>Mileage_Highway</th>\n",
       "      <th>Weight</th>\n",
       "      <th>Wheelbase</th>\n",
       "      <th>Length</th>\n",
       "    </tr>\n",
       "  </thead>\n",
       "  <tbody>\n",
       "    <tr>\n",
       "      <th>150</th>\n",
       "      <td>Honda</td>\n",
       "      <td>Hybrid</td>\n",
       "      <td>Asia</td>\n",
       "      <td>Front</td>\n",
       "      <td>2.0</td>\n",
       "      <td>3</td>\n",
       "      <td>73</td>\n",
       "      <td>60</td>\n",
       "      <td>66</td>\n",
       "      <td>1850</td>\n",
       "      <td>95</td>\n",
       "      <td>155</td>\n",
       "    </tr>\n",
       "    <tr>\n",
       "      <th>373</th>\n",
       "      <td>Toyota</td>\n",
       "      <td>Hybrid</td>\n",
       "      <td>Asia</td>\n",
       "      <td>Front</td>\n",
       "      <td>1.5</td>\n",
       "      <td>4</td>\n",
       "      <td>110</td>\n",
       "      <td>59</td>\n",
       "      <td>51</td>\n",
       "      <td>2890</td>\n",
       "      <td>106</td>\n",
       "      <td>175</td>\n",
       "    </tr>\n",
       "  </tbody>\n",
       "</table>\n",
       "</div>"
      ],
      "text/plain": [
       "       Make    Type Origin DriveTrain  EngineSize  Cylinders  Horsepower  \\\n",
       "150   Honda  Hybrid   Asia      Front         2.0          3          73   \n",
       "373  Toyota  Hybrid   Asia      Front         1.5          4         110   \n",
       "\n",
       "     Mileage_City  Mileage_Highway  Weight  Wheelbase  Length  \n",
       "150            60               66    1850         95     155  \n",
       "373            59               51    2890        106     175  "
      ]
     },
     "execution_count": 58,
     "metadata": {},
     "output_type": "execute_result"
    }
   ],
   "source": [
    "cars_df.loc[cars_df['Mileage_City'] >50, :]"
   ]
  },
  {
   "cell_type": "code",
   "execution_count": 59,
   "id": "1d72181e-2f20-491e-a479-698670cd0fe3",
   "metadata": {},
   "outputs": [],
   "source": [
    "cars_num_df= cars_df.select_dtypes(include=np.number)"
   ]
  },
  {
   "cell_type": "code",
   "execution_count": 61,
   "id": "8e8a2a0d-d7b6-46b5-8387-ded62e6a2902",
   "metadata": {},
   "outputs": [
    {
     "data": {
      "text/plain": [
       "EngineSize         float64\n",
       "Cylinders            int64\n",
       "Horsepower           int64\n",
       "Mileage_City         int64\n",
       "Mileage_Highway      int64\n",
       "Weight               int64\n",
       "Wheelbase            int64\n",
       "Length               int64\n",
       "dtype: object"
      ]
     },
     "execution_count": 61,
     "metadata": {},
     "output_type": "execute_result"
    }
   ],
   "source": [
    "cars_num_df.dtypes"
   ]
  },
  {
   "cell_type": "code",
   "execution_count": 62,
   "id": "f3bd337f-c8f8-4867-8497-ae6548293ecf",
   "metadata": {},
   "outputs": [],
   "source": [
    "cars_cat_df= cars_df.select_dtypes(exclude=np.number)"
   ]
  },
  {
   "cell_type": "code",
   "execution_count": 64,
   "id": "cc072335-36c3-4fc6-a39b-053764de2396",
   "metadata": {},
   "outputs": [
    {
     "data": {
      "text/plain": [
       "Make          object\n",
       "Type          object\n",
       "Origin        object\n",
       "DriveTrain    object\n",
       "dtype: object"
      ]
     },
     "execution_count": 64,
     "metadata": {},
     "output_type": "execute_result"
    }
   ],
   "source": [
    "cars_cat_df.dtypes"
   ]
  },
  {
   "cell_type": "code",
   "execution_count": null,
   "id": "40862f87-43b6-4e53-934b-1955223239f0",
   "metadata": {},
   "outputs": [],
   "source": []
  }
 ],
 "metadata": {
  "kernelspec": {
   "display_name": "Python 3 (ipykernel)",
   "language": "python",
   "name": "python3"
  },
  "language_info": {
   "codemirror_mode": {
    "name": "ipython",
    "version": 3
   },
   "file_extension": ".py",
   "mimetype": "text/x-python",
   "name": "python",
   "nbconvert_exporter": "python",
   "pygments_lexer": "ipython3",
   "version": "3.12.4"
  }
 },
 "nbformat": 4,
 "nbformat_minor": 5
}
